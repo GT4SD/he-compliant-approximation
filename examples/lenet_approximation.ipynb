{
  "cells": [
    {
      "cell_type": "markdown",
      "metadata": {
        "id": "q5Vl-ddBb_yc"
      },
      "source": [
        "## 1. Setup"
      ]
    },
    {
      "cell_type": "code",
      "execution_count": null,
      "metadata": {
        "colab": {
          "base_uri": "https://localhost:8080/"
        },
        "id": "xK7WUK0DW2Vw",
        "outputId": "36122e47-a871-4c9f-8e05-d803d0fe2e28"
      },
      "outputs": [],
      "source": [
        "# installing the package\n",
        "!pip install .. -q"
      ]
    },
    {
      "cell_type": "code",
      "execution_count": null,
      "metadata": {
        "id": "8TZufCR4gIMj"
      },
      "outputs": [],
      "source": [
        "# checking hela installation\n",
        "import hela"
      ]
    },
    {
      "cell_type": "code",
      "execution_count": null,
      "metadata": {},
      "outputs": [],
      "source": [
        "import torch\n",
        "\n",
        "device = \"gpu\" if torch.cuda.is_available() else \"cpu\"\n",
        "\n",
        "if device == \"gpu\":\n",
        "    print(\"GPU is available\")\n",
        "    !nvidia-smi"
      ]
    },
    {
      "cell_type": "markdown",
      "metadata": {
        "id": "iapAiIgjgZzk"
      },
      "source": [
        "## 2. Training and Testing LeNet-5"
      ]
    },
    {
      "cell_type": "markdown",
      "metadata": {
        "id": "V-o61cfWZLcb"
      },
      "source": [
        "### 2.1 **Without approximations**"
      ]
    },
    {
      "cell_type": "code",
      "execution_count": null,
      "metadata": {
        "colab": {
          "base_uri": "https://localhost:8080/"
        },
        "id": "HU81lFNe9RVF",
        "outputId": "7335ead0-4d7f-4217-e7de-a1ddafc51ba8"
      },
      "outputs": [],
      "source": [
        "!lenet-pipeline --lenet_type \"lenet-5\"\\\n",
        "                --dataset_type \"mnist\"\\\n",
        "                --pin_memory\\\n",
        "                --persistent_workers\\\n",
        "                --accelerator {device}\\\n",
        "                --experiment_name \"lenet_mnist\"\\\n",
        "                --pipeline_steps_path \"../pipeline_steps/lenet/without_approximations.json\""
      ]
    },
    {
      "cell_type": "markdown",
      "metadata": {
        "id": "Ww8uXRWxZUQB"
      },
      "source": [
        "### 2.2 Approximations:\n",
        "\n",
        "\n",
        "*   Layer Normalization → **Batch Normalization**\n",
        "\n"
      ]
    },
    {
      "cell_type": "code",
      "execution_count": null,
      "metadata": {
        "colab": {
          "base_uri": "https://localhost:8080/"
        },
        "id": "5IR9semM1YRa",
        "outputId": "bdf07a1c-97a9-4509-97fd-51dcf9c00b76"
      },
      "outputs": [],
      "source": [
        "!lenet-pipeline --lenet_type \"lenet-5\"\\\n",
        "                --dataset_type \"mnist\"\\\n",
        "                --pin_memory\\\n",
        "                --persistent_workers\\\n",
        "                --accelerator {device}\\\n",
        "                --experiment_name \"lenet_mnist_AVG\"\\\n",
        "                --pipeline_steps_path \"../pipeline_steps/lenet/pipeline_steps_AVGpool.json\""
      ]
    },
    {
      "cell_type": "markdown",
      "metadata": {
        "id": "DjrDgqtB2dFV"
      },
      "source": [
        "### 2.3 Approximations:\n",
        "\n",
        "*   ReLU → **Quadratic activation**"
      ]
    },
    {
      "cell_type": "code",
      "execution_count": null,
      "metadata": {
        "id": "H10PFvvp1eIy"
      },
      "outputs": [],
      "source": [
        "!lenet-pipeline --lenet_type \"lenet-5\"\\\n",
        "                --dataset_type \"mnist\"\\\n",
        "                --image_size 32\\\n",
        "                --greyscale\\\n",
        "                --pin_memory\\\n",
        "                --persistent_workers\\\n",
        "                --accelerator {device}\\\n",
        "                --experiment_name \"LeNet_mnist_Q\"\\\n",
        "                --pipeline_steps_path \"../pipeline_steps/lenet/pipeline_steps_Q.json\""
      ]
    },
    {
      "cell_type": "markdown",
      "metadata": {
        "id": "McCxUDx-2wCb"
      },
      "source": [
        "### 2.3 Approximations:\n",
        "\n",
        "*   ReLU → **Trainable Quadratic activation**"
      ]
    },
    {
      "cell_type": "code",
      "execution_count": null,
      "metadata": {
        "id": "BCBlodoQ1gB5"
      },
      "outputs": [],
      "source": [
        "!lenet-pipeline --lenet_type \"lenet-5\"\\\n",
        "                --dataset_type \"mnist\"\\\n",
        "                --image_size 32\\\n",
        "                --greyscale\\\n",
        "                --pin_memory\\\n",
        "                --persistent_workers\\\n",
        "                --accelerator {device}\\\n",
        "                --experiment_name \"LeNet_mnist_TQ1\"\\\n",
        "                --pipeline_steps_path \"../pipeline_steps/lenet/pipeline_steps_TQ1.json\""
      ]
    },
    {
      "cell_type": "markdown",
      "metadata": {
        "id": "W3-H_ecM2GRA"
      },
      "source": [
        "### 2.5 Approximations:\n",
        "\n",
        "\n",
        "*   Max Pooling → **Average Pooling**\n",
        "*   ReLU → **Quadratic activation**"
      ]
    },
    {
      "cell_type": "code",
      "execution_count": null,
      "metadata": {
        "id": "ZmW3sSYz1aP-"
      },
      "outputs": [],
      "source": [
        "!lenet-pipeline --lenet_type \"lenet-5\"\\\n",
        "                --dataset_type \"mnist\"\\\n",
        "                --image_size 32\\\n",
        "                --greyscale\\\n",
        "                --pin_memory\\\n",
        "                --persistent_workers\\\n",
        "                --accelerator {device}\\\n",
        "                --experiment_name \"LeNet_mnist_AVG_Q\"\\\n",
        "                --pipeline_steps_path \"../pipeline_steps/lenet/pipeline_steps_AVGpool_Q.json\""
      ]
    },
    {
      "cell_type": "markdown",
      "metadata": {
        "id": "QfGm_WTO2Z_y"
      },
      "source": [
        "### 2.6 Approximations:\n",
        "\n",
        "\n",
        "*   Layer Normalization → **Batch Normalization**\n",
        "*   ReLU → **Trainable Quadratic activation**"
      ]
    },
    {
      "cell_type": "code",
      "execution_count": null,
      "metadata": {
        "id": "Ir86EWBm1cIX"
      },
      "outputs": [],
      "source": [
        "!lenet-pipeline --lenet_type \"lenet-5\"\\\n",
        "                --dataset_type \"mnist\"\\\n",
        "                --image_size 32\\\n",
        "                --greyscale\\\n",
        "                --pin_memory\\\n",
        "                --persistent_workers\\\n",
        "                --accelerator {device}\\\n",
        "                --experiment_name \"LeNet_mnist_AVG_TQ1\"\\\n",
        "                --pipeline_steps_path \"../pipeline_steps/lenet/pipeline_steps_AVGpool_TQ1.json\""
      ]
    }
  ],
  "metadata": {
    "accelerator": "GPU",
    "colab": {
      "gpuType": "T4",
      "provenance": []
    },
    "kernelspec": {
      "display_name": "Python 3",
      "name": "python3"
    },
    "language_info": {
      "codemirror_mode": {
        "name": "ipython",
        "version": 3
      },
      "file_extension": ".py",
      "mimetype": "text/x-python",
      "name": "python",
      "nbconvert_exporter": "python",
      "pygments_lexer": "ipython3",
      "version": "3.8.18"
    }
  },
  "nbformat": 4,
  "nbformat_minor": 0
}
